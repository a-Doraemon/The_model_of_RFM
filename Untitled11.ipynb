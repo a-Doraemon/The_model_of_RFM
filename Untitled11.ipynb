{
 "cells": [
  {
   "cell_type": "markdown",
   "metadata": {},
   "source": [
    "# EDA"
   ]
  },
  {
   "cell_type": "code",
   "execution_count": 1,
   "metadata": {
    "scrolled": true
   },
   "outputs": [
    {
     "name": "stdout",
     "output_type": "stream",
     "text": [
      "   Row ID  Order ID  Order Date Order Priority  Order Quantity       Sales  \\\n",
      "0     1.0       3.0  2010/10/13            Low             6.0    261.5400   \n",
      "1    49.0     293.0   2012/10/1           High            49.0  10123.0200   \n",
      "2    50.0     293.0   2012/10/1           High            27.0    244.5700   \n",
      "3    80.0     483.0   2011/7/10           High            30.0   4965.7595   \n",
      "4    85.0     515.0   2010/8/28  Not Specified            19.0    394.2700   \n",
      "\n",
      "   Discount       Ship Mode   Profit  Unit Price     ...      \\\n",
      "0      0.04     Regular Air  -213.25       38.94     ...       \n",
      "1      0.07  Delivery Truck   457.81      208.16     ...       \n",
      "2      0.01     Regular Air    46.71        8.69     ...       \n",
      "3      0.08     Regular Air  1198.97      195.99     ...       \n",
      "4      0.08     Regular Air    30.94       21.78     ...       \n",
      "\n",
      "        Customer Name Province   Region Customer Segment Product Category  \\\n",
      "0  Muhammed MacIntyre  Nunavut  Nunavut   Small Business  Office Supplies   \n",
      "1        Barry French  Nunavut  Nunavut         Consumer  Office Supplies   \n",
      "2        Barry French  Nunavut  Nunavut         Consumer  Office Supplies   \n",
      "3       Clay Rozendal  Nunavut  Nunavut        Corporate       Technology   \n",
      "4      Carlos Soltero  Nunavut  Nunavut         Consumer  Office Supplies   \n",
      "\n",
      "             Product Sub-Category  \\\n",
      "0          Storage & Organization   \n",
      "1                      Appliances   \n",
      "2  Binders and Binder Accessories   \n",
      "3    Telephones and Communication   \n",
      "4                      Appliances   \n",
      "\n",
      "                                        Product Name Product Container  \\\n",
      "0   Eldon Base for stackable storage shelf, platinum         Large Box   \n",
      "1  1.7 Cubic Foot Compact \"Cube\" Office Refrigera...        Jumbo Drum   \n",
      "2   Cardinal Slant-D? Ring Binder, Heavy Gauge Vinyl         Small Box   \n",
      "3                                               R380         Small Box   \n",
      "4                           Holmes HEPA Air Purifier        Medium Box   \n",
      "\n",
      "  Product Base Margin   Ship Date  \n",
      "0                0.80  2010/10/20  \n",
      "1                0.58   2012/10/2  \n",
      "2                0.39   2012/10/3  \n",
      "3                0.58   2011/7/12  \n",
      "4                0.50   2010/8/30  \n",
      "\n",
      "[5 rows x 21 columns]\n",
      "Index(['Row ID', 'Order ID', 'Order Date', 'Order Priority', 'Order Quantity',\n",
      "       'Sales', 'Discount', 'Ship Mode', 'Profit', 'Unit Price',\n",
      "       'Shipping Cost', 'Customer Name', 'Province', 'Region',\n",
      "       'Customer Segment', 'Product Category', 'Product Sub-Category',\n",
      "       'Product Name', 'Product Container', 'Product Base Margin',\n",
      "       'Ship Date'],\n",
      "      dtype='object')\n"
     ]
    }
   ],
   "source": [
    "import pandas as pd\n",
    "import numpy as np\n",
    "import matplotlib.pyplot as plt\n",
    "import seaborn as sns\n",
    "\n",
    "sales=pd.read_csv(\"E:/file_of_Excel/RFM模型/销售数据.csv\",engine=\"python\")  \n",
    "print(sales.head())\n",
    "print(sales.columns)"
   ]
  },
  {
   "cell_type": "code",
   "execution_count": 5,
   "metadata": {
    "scrolled": false
   },
   "outputs": [
    {
     "data": {
      "text/html": [
       "<script>requirejs.config({paths: { 'plotly': ['https://cdn.plot.ly/plotly-latest.min']},});if(!window.Plotly) {{require(['plotly'],function(plotly) {window.Plotly=plotly;});}}</script>"
      ],
      "text/vnd.plotly.v1+html": [
       "<script>requirejs.config({paths: { 'plotly': ['https://cdn.plot.ly/plotly-latest.min']},});if(!window.Plotly) {{require(['plotly'],function(plotly) {window.Plotly=plotly;});}}</script>"
      ]
     },
     "metadata": {},
     "output_type": "display_data"
    },
    {
     "data": {
      "application/vnd.plotly.v1+json": {
       "data": [
        {
         "lat": [
          51.253775
         ],
         "locationmode": "country names",
         "lon": [
          -85.32321400000001
         ],
         "marker": {
          "color": "rgb(0,191,255)",
          "line": {
           "color": "rgb(40,40,40)",
           "width": 0.5
          },
          "size": [
           1826
          ],
          "sizemode": "area"
         },
         "name": "(1000,2000]",
         "text": [
          "Ontario<br>number: 1826 个"
         ],
         "type": "scattergeo"
        },
        {
         "lat": [
          52.939915899999995,
          53.94977215,
          53.7608608,
          52.939915899999995
         ],
         "locationmode": "country names",
         "lon": [
          -106.4508639,
          -116.6183281,
          -98.8138762,
          -73.5491361
         ],
         "marker": {
          "color": "rgb(173,255,47)",
          "line": {
           "color": "rgb(40,40,40)",
           "width": 0.5
          },
          "size": [
           913,
           865,
           793,
           781
          ],
          "sizemode": "area"
         },
         "name": "(500-1000]",
         "text": [
          "Saskachewan<br>number: 913 个",
          "Alberta<br>number: 865 个",
          "Manitoba<br>number: 793 个",
          "Quebec<br>number: 781 个"
         ],
         "type": "scattergeo"
        },
        {
         "lat": [
          44.6819866,
          64.8255441,
          46.56531629999999
         ],
         "locationmode": "country names",
         "lon": [
          -63.744310999999996,
          -124.8457334,
          -66.46191639999999
         ],
         "marker": {
          "color": "rgb(255,255,0)",
          "line": {
           "color": "rgb(40,40,40)",
           "width": 0.5
          },
          "size": [
           464,
           394,
           323
          ],
          "sizemode": "area"
         },
         "name": "(100,500]",
         "text": [
          "Nova Scotia<br>number: 464 个",
          "Northwest Territories<br>number: 394 个",
          "New Brunswick<br>number: 323 个"
         ],
         "type": "scattergeo"
        },
        {
         "lat": [
          53.1355091
         ],
         "locationmode": "country names",
         "lon": [
          -57.660436399999995
         ],
         "marker": {
          "color": "rgb(255,65,54)",
          "line": {
           "color": "rgb(40,40,40)",
           "width": 0.5
          },
          "size": [
           82
          ],
          "sizemode": "area"
         },
         "name": "(0,100]",
         "text": [
          "Newfoundland<br>number: 82 个"
         ],
         "type": "scattergeo"
        }
       ],
       "layout": {
        "geo": {
         "countrycolor": "rgb(255, 255, 255)",
         "countrywidth": 1,
         "landcolor": "rgb(217, 217, 217)",
         "projection": {
          "type": "Mercator"
         },
         "scope": "canada",
         "showland": true,
         "subunitcolor": "rgb(255, 255, 255)",
         "subunitwidth": 1
        },
        "showlegend": true,
        "title": "The number of the orders about different provinces in Canada"
       }
      },
      "text/html": [
       "<div id=\"907b8f05-eb69-480b-aa55-ff441d48d3a6\" style=\"height: 525px; width: 100%;\" class=\"plotly-graph-div\"></div><script type=\"text/javascript\">require([\"plotly\"], function(Plotly) { window.PLOTLYENV=window.PLOTLYENV || {};window.PLOTLYENV.BASE_URL=\"https://plot.ly\";Plotly.newPlot(\"907b8f05-eb69-480b-aa55-ff441d48d3a6\", [{\"type\": \"scattergeo\", \"locationmode\": \"country names\", \"lon\": [-85.32321400000001], \"lat\": [51.253775], \"text\": [\"Ontario<br>number: 1826 \\u4e2a\"], \"marker\": {\"size\": [1826.0], \"color\": \"rgb(0,191,255)\", \"line\": {\"width\": 0.5, \"color\": \"rgb(40,40,40)\"}, \"sizemode\": \"area\"}, \"name\": \"(1000,2000]\"}, {\"type\": \"scattergeo\", \"locationmode\": \"country names\", \"lon\": [-106.4508639, -116.6183281, -98.8138762, -73.5491361], \"lat\": [52.939915899999995, 53.94977215, 53.7608608, 52.939915899999995], \"text\": [\"Saskachewan<br>number: 913 \\u4e2a\", \"Alberta<br>number: 865 \\u4e2a\", \"Manitoba<br>number: 793 \\u4e2a\", \"Quebec<br>number: 781 \\u4e2a\"], \"marker\": {\"size\": [913.0, 865.0, 793.0, 781.0], \"color\": \"rgb(173,255,47)\", \"line\": {\"width\": 0.5, \"color\": \"rgb(40,40,40)\"}, \"sizemode\": \"area\"}, \"name\": \"(500-1000]\"}, {\"type\": \"scattergeo\", \"locationmode\": \"country names\", \"lon\": [-63.744310999999996, -124.8457334, -66.46191639999999], \"lat\": [44.6819866, 64.8255441, 46.56531629999999], \"text\": [\"Nova Scotia<br>number: 464 \\u4e2a\", \"Northwest Territories<br>number: 394 \\u4e2a\", \"New Brunswick<br>number: 323 \\u4e2a\"], \"marker\": {\"size\": [464.0, 394.0, 323.0], \"color\": \"rgb(255,255,0)\", \"line\": {\"width\": 0.5, \"color\": \"rgb(40,40,40)\"}, \"sizemode\": \"area\"}, \"name\": \"(100,500]\"}, {\"type\": \"scattergeo\", \"locationmode\": \"country names\", \"lon\": [-57.660436399999995], \"lat\": [53.1355091], \"text\": [\"Newfoundland<br>number: 82 \\u4e2a\"], \"marker\": {\"size\": [82.0], \"color\": \"rgb(255,65,54)\", \"line\": {\"width\": 0.5, \"color\": \"rgb(40,40,40)\"}, \"sizemode\": \"area\"}, \"name\": \"(0,100]\"}], {\"title\": \"The number of the orders about different provinces in Canada\", \"showlegend\": true, \"geo\": {\"scope\": \"canada\", \"projection\": {\"type\": \"Mercator\"}, \"showland\": true, \"landcolor\": \"rgb(217, 217, 217)\", \"subunitwidth\": 1, \"countrywidth\": 1, \"subunitcolor\": \"rgb(255, 255, 255)\", \"countrycolor\": \"rgb(255, 255, 255)\"}}, {\"showLink\": true, \"linkText\": \"Export to plot.ly\"})});</script>"
      ],
      "text/vnd.plotly.v1+html": [
       "<div id=\"907b8f05-eb69-480b-aa55-ff441d48d3a6\" style=\"height: 525px; width: 100%;\" class=\"plotly-graph-div\"></div><script type=\"text/javascript\">require([\"plotly\"], function(Plotly) { window.PLOTLYENV=window.PLOTLYENV || {};window.PLOTLYENV.BASE_URL=\"https://plot.ly\";Plotly.newPlot(\"907b8f05-eb69-480b-aa55-ff441d48d3a6\", [{\"type\": \"scattergeo\", \"locationmode\": \"country names\", \"lon\": [-85.32321400000001], \"lat\": [51.253775], \"text\": [\"Ontario<br>number: 1826 \\u4e2a\"], \"marker\": {\"size\": [1826.0], \"color\": \"rgb(0,191,255)\", \"line\": {\"width\": 0.5, \"color\": \"rgb(40,40,40)\"}, \"sizemode\": \"area\"}, \"name\": \"(1000,2000]\"}, {\"type\": \"scattergeo\", \"locationmode\": \"country names\", \"lon\": [-106.4508639, -116.6183281, -98.8138762, -73.5491361], \"lat\": [52.939915899999995, 53.94977215, 53.7608608, 52.939915899999995], \"text\": [\"Saskachewan<br>number: 913 \\u4e2a\", \"Alberta<br>number: 865 \\u4e2a\", \"Manitoba<br>number: 793 \\u4e2a\", \"Quebec<br>number: 781 \\u4e2a\"], \"marker\": {\"size\": [913.0, 865.0, 793.0, 781.0], \"color\": \"rgb(173,255,47)\", \"line\": {\"width\": 0.5, \"color\": \"rgb(40,40,40)\"}, \"sizemode\": \"area\"}, \"name\": \"(500-1000]\"}, {\"type\": \"scattergeo\", \"locationmode\": \"country names\", \"lon\": [-63.744310999999996, -124.8457334, -66.46191639999999], \"lat\": [44.6819866, 64.8255441, 46.56531629999999], \"text\": [\"Nova Scotia<br>number: 464 \\u4e2a\", \"Northwest Territories<br>number: 394 \\u4e2a\", \"New Brunswick<br>number: 323 \\u4e2a\"], \"marker\": {\"size\": [464.0, 394.0, 323.0], \"color\": \"rgb(255,255,0)\", \"line\": {\"width\": 0.5, \"color\": \"rgb(40,40,40)\"}, \"sizemode\": \"area\"}, \"name\": \"(100,500]\"}, {\"type\": \"scattergeo\", \"locationmode\": \"country names\", \"lon\": [-57.660436399999995], \"lat\": [53.1355091], \"text\": [\"Newfoundland<br>number: 82 \\u4e2a\"], \"marker\": {\"size\": [82.0], \"color\": \"rgb(255,65,54)\", \"line\": {\"width\": 0.5, \"color\": \"rgb(40,40,40)\"}, \"sizemode\": \"area\"}, \"name\": \"(0,100]\"}], {\"title\": \"The number of the orders about different provinces in Canada\", \"showlegend\": true, \"geo\": {\"scope\": \"canada\", \"projection\": {\"type\": \"Mercator\"}, \"showland\": true, \"landcolor\": \"rgb(217, 217, 217)\", \"subunitwidth\": 1, \"countrywidth\": 1, \"subunitcolor\": \"rgb(255, 255, 255)\", \"countrycolor\": \"rgb(255, 255, 255)\"}}, {\"showLink\": true, \"linkText\": \"Export to plot.ly\"})});</script>"
      ]
     },
     "metadata": {},
     "output_type": "display_data"
    }
   ],
   "source": [
    "province_orders=sales[\"Province\"].value_counts().reset_index()\n",
    "province_orders.columns=[\"province\",\"num\"]\n",
    "province_lat_lon=pd.read_csv(\"E:/file_of_Excel/RFM模型/province_lat_lon.csv\",engine=\"python\")\n",
    "province_orders=pd.merge(province_orders,province_lat_lon,how=\"left\",on=\"province\")\n",
    "\n",
    "import plotly.plotly as py\n",
    "import plotly\n",
    "from plotly.graph_objs import *\n",
    "plotly.offline.init_notebook_mode(connected=True)\n",
    "from plotly.offline import download_plotlyjs, iplot\n",
    "from plotly.offline.offline import _plot_html\n",
    "\n",
    "province_orders['text'] = province_orders['province'] + '<br>number: ' + (province_orders['num']).astype(str)+' 个'\n",
    "limits = [(0,1),(2,6),(7,10),(11,12)]\n",
    "names=[\"(1000,2000]\",\"(500-1000]\",\"(100,500]\",\"(0,100]\"]\n",
    "colors = [\"rgb(0,191,255)\",\"rgb(173,255,47)\",\"rgb(255,255,0)\",\"rgb(255,65,54)\"]\n",
    "provinces = []\n",
    "scale = 1\n",
    "\n",
    "\n",
    "\n",
    "for i in range(len(limits)):\n",
    "    lim = limits[i]\n",
    "    df_sub = province_orders[lim[0]:lim[1]]\n",
    "    province = dict(\n",
    "        type = 'scattergeo',\n",
    "        locationmode = \"country names\",      # 'USA-states'  'country names'\n",
    "        lon = df_sub['lon'],\n",
    "        lat = df_sub['lat'],\n",
    "        text = df_sub['text'],\n",
    "        marker = dict(\n",
    "            size = df_sub['num']/scale,\n",
    "            color = colors[i],\n",
    "            line = dict(width=0.5, color='rgb(40,40,40)'),\n",
    "            sizemode = 'area'\n",
    "        ),\n",
    "        name = names[i])\n",
    "    provinces.append(province)\n",
    "\n",
    "layout = dict(\n",
    "        title = 'The number of the orders about different provinces in Canada',\n",
    "        showlegend = True,\n",
    "        geo = dict(\n",
    "            scope='canada',                          # 'usa'   'africa'  'north america'\n",
    "            projection=dict( type='Mercator'),    # 'albers usa'   'Mercator'  'azimuthal equal area'  'orthographic'\n",
    "            showland = True,\n",
    "            landcolor = 'rgb(217, 217, 217)',\n",
    "            subunitwidth=1,\n",
    "            countrywidth=1,\n",
    "            subunitcolor=\"rgb(255, 255, 255)\",\n",
    "            countrycolor=\"rgb(255, 255, 255)\"\n",
    "        ),\n",
    "    )\n",
    "\n",
    "fig = Figure( data=provinces, layout=layout )\n",
    "plotly.offline.iplot(fig)"
   ]
  },
  {
   "cell_type": "markdown",
   "metadata": {
    "collapsed": true
   },
   "source": [
    "<img style=\"float: left;\" \n",
    "src=\"http://img.blog.csdn.net/20180216233439619\",width=700,height=500>"
   ]
  },
  {
   "cell_type": "markdown",
   "metadata": {},
   "source": [
    "![](E:/file_of_Excel/RFM模型/province_orders.png \"Title\")"
   ]
  },
  {
   "cell_type": "code",
   "execution_count": null,
   "metadata": {
    "collapsed": true
   },
   "outputs": [],
   "source": [
    "\n",
    "\n"
   ]
  },
  {
   "cell_type": "code",
   "execution_count": 4,
   "metadata": {},
   "outputs": [
    {
     "data": {
      "image/png": "[encoded data removed]",
      "text/plain": [
       "<matplotlib.figure.Figure at 0xbc8c8d0>"
      ]
     },
     "metadata": {},
     "output_type": "display_data"
    }
   ],
   "source": [
    "#plt.rc(\"font\",family=\"STIXGeneral\",size=13)\n",
    "plt.figure(figsize=(16,6))\n",
    "sns.countplot(x=\"Province\",hue='Product Category',data=sales)\n",
    "plt.show()"
   ]
  },
  {
   "cell_type": "code",
   "execution_count": null,
   "metadata": {
    "collapsed": true
   },
   "outputs": [],
   "source": []
  },
  {
   "cell_type": "code",
   "execution_count": 3,
   "metadata": {
    "scrolled": false
   },
   "outputs": [
    {
     "data": {
      "image/png": "[encoded data removed]",
      "text/plain": [
       "<matplotlib.figure.Figure at 0xbd22470>"
      ]
     },
     "metadata": {},
     "output_type": "display_data"
    }
   ],
   "source": [
    "from matplotlib.font_manager import FontProperties\n",
    "import matplotlib.pyplot as plt\n",
    "font = FontProperties(fname=r'C:\\Windows\\Fonts\\simsun.ttc', size=14)\n",
    "\n",
    "#%config InlineBackend.figure_format = 'retina'\n",
    "sales['Ship Date']=pd.to_datetime(sales['Ship Date'])\n",
    "sales['Order Date']=pd.to_datetime(sales['Order Date'])               \n",
    "sales[\"Delivery_speed\"]=sales['Ship Date']-sales['Order Date']\n",
    "Delivery_speed=sales[\"Delivery_speed\"].value_counts()\n",
    "Delivery_speed.index=Delivery_speed.index.astype('timedelta64[D]')  #将精度显示成“Day”\n",
    "Delivery_speed.index=Delivery_speed.index.astype(\"str\")+\" d\"\n",
    "\n",
    "plt.figure(figsize=(16,6))\n",
    "#plt.rc(\"font\",family=\"STXihei\",size=13)\n",
    "\n",
    "Delivery_speed.plot(kind=\"bar\", rot=30)\n",
    "for xx, yy in zip(np.arange(len(Delivery_speed)),Delivery_speed.values):\n",
    "    plt.text(xx, yy+30, str(yy), ha='center')\n",
    "plt.xlabel(\"天数\",fontproperties=font)\n",
    "plt.ylabel(\"订单个数\",fontproperties=font)\n",
    "plt.title(\"发货速度\",fontproperties=font)\n",
    "plt.show()"
   ]
  },
  {
   "cell_type": "code",
   "execution_count": null,
   "metadata": {
    "collapsed": true
   },
   "outputs": [],
   "source": []
  },
  {
   "cell_type": "code",
   "execution_count": null,
   "metadata": {
    "collapsed": true
   },
   "outputs": [],
   "source": []
  }
 ],
 "metadata": {
  "kernelspec": {
   "display_name": "Python 3",
   "language": "python",
   "name": "python3"
  },
  "language_info": {
   "codemirror_mode": {
    "name": "ipython",
    "version": 3
   },
   "file_extension": ".py",
   "mimetype": "text/x-python",
   "name": "python",
   "nbconvert_exporter": "python",
   "pygments_lexer": "ipython3",
   "version": "3.6.3"
  }
 },
 "nbformat": 4,
 "nbformat_minor": 2
}
